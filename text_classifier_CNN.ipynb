{
  "nbformat": 4,
  "nbformat_minor": 0,
  "metadata": {
    "colab": {
      "name": "text_classifier_CNN.ipynb",
      "version": "0.3.2",
      "provenance": [],
      "collapsed_sections": []
    },
    "kernelspec": {
      "name": "python3",
      "display_name": "Python 3"
    },
    "accelerator": "GPU"
  },
  "cells": [
    {
      "metadata": {
        "id": "7UyqcsIByMnW",
        "colab_type": "code",
        "outputId": "0429ee29-a021-4290-b73b-6242b4da8645",
        "colab": {
          "base_uri": "https://localhost:8080/",
          "height": 197
        }
      },
      "cell_type": "code",
      "source": [
        "!pip install PyDrive # 安装一个包\n"
      ],
      "execution_count": 0,
      "outputs": [
        {
          "output_type": "stream",
          "text": [
            "Requirement already satisfied: PyDrive in /usr/local/lib/python3.6/dist-packages (1.3.1)\n",
            "Requirement already satisfied: google-api-python-client>=1.2 in /usr/local/lib/python3.6/dist-packages (from PyDrive) (1.6.7)\n",
            "Requirement already satisfied: PyYAML>=3.0 in /usr/local/lib/python3.6/dist-packages (from PyDrive) (3.13)\n",
            "Requirement already satisfied: oauth2client>=4.0.0 in /usr/local/lib/python3.6/dist-packages (from PyDrive) (4.1.3)\n",
            "Requirement already satisfied: uritemplate<4dev,>=3.0.0 in /usr/local/lib/python3.6/dist-packages (from google-api-python-client>=1.2->PyDrive) (3.0.0)\n",
            "Requirement already satisfied: httplib2<1dev,>=0.9.2 in /usr/local/lib/python3.6/dist-packages (from google-api-python-client>=1.2->PyDrive) (0.11.3)\n",
            "Requirement already satisfied: six<2dev,>=1.6.1 in /usr/local/lib/python3.6/dist-packages (from google-api-python-client>=1.2->PyDrive) (1.11.0)\n",
            "Requirement already satisfied: pyasn1>=0.1.7 in /usr/local/lib/python3.6/dist-packages (from oauth2client>=4.0.0->PyDrive) (0.4.5)\n",
            "Requirement already satisfied: rsa>=3.1.4 in /usr/local/lib/python3.6/dist-packages (from oauth2client>=4.0.0->PyDrive) (4.0)\n",
            "Requirement already satisfied: pyasn1-modules>=0.0.5 in /usr/local/lib/python3.6/dist-packages (from oauth2client>=4.0.0->PyDrive) (0.2.4)\n"
          ],
          "name": "stdout"
        }
      ]
    },
    {
      "metadata": {
        "id": "0HDaWXWwyZwj",
        "colab_type": "code",
        "colab": {}
      },
      "cell_type": "code",
      "source": [
        "import os\n",
        "from pydrive.auth import GoogleAuth\n",
        "from pydrive.drive import GoogleDrive\n",
        "# 以下两句代码在 Google Colab 才需要添加，其他平台忽略\n",
        "from google.colab import auth\n",
        "from oauth2client.client import GoogleCredentials\n"
      ],
      "execution_count": 0,
      "outputs": []
    },
    {
      "metadata": {
        "id": "42vLTDz4yPwa",
        "colab_type": "code",
        "colab": {}
      },
      "cell_type": "code",
      "source": [
        "auth.authenticate_user()\n",
        "gauth = GoogleAuth()\n",
        "gauth.credentials = GoogleCredentials.get_application_default()\n",
        "drive = GoogleDrive(gauth)"
      ],
      "execution_count": 0,
      "outputs": []
    },
    {
      "metadata": {
        "id": "SxGtml9L_b59",
        "colab_type": "code",
        "colab": {}
      },
      "cell_type": "code",
      "source": [
        "# # 2. Auto-iterate using the query syntax\n",
        "# #    https://developers.google.com/drive/v2/web/search-parameters\n",
        "# file_list = drive.ListFile(\n",
        "#     {'q': \"'https://drive.google.com/open?id=1AFxy5ICODGYsdtDYfBzJK6AiVlxyjPHx' in parents\"}).GetList()\n",
        "\n",
        "# for f in file_list:\n",
        "#   # 3. Create & download by id.\n",
        "#   print('title: %s, id: %s' % (f['title'], f['id']))\n",
        "#   fname = os.path.join(local_download_path, f['title'])\n",
        "#   print('downloading to {}'.format(fname))\n",
        "#   f_ = drive.CreateFile({'id': f['id']})\n",
        "#   f_.GetContentFile(fname)"
      ],
      "execution_count": 0,
      "outputs": []
    },
    {
      "metadata": {
        "id": "R32lR-Ly_qdN",
        "colab_type": "code",
        "colab": {}
      },
      "cell_type": "code",
      "source": [
        "download = drive.CreateFile({'id':'1AFxy5ICODGYsdtDYfBzJK6AiVlxyjPHx'})\n",
        "download.GetContentFile('train.txt')"
      ],
      "execution_count": 0,
      "outputs": []
    },
    {
      "metadata": {
        "id": "rfF5feuv_9oK",
        "colab_type": "code",
        "outputId": "3862b0e1-a36e-455b-e37a-3309e7d34a87",
        "colab": {
          "base_uri": "https://localhost:8080/",
          "height": 35
        }
      },
      "cell_type": "code",
      "source": [
        "!ls"
      ],
      "execution_count": 0,
      "outputs": [
        {
          "output_type": "stream",
          "text": [
            "adc.json  sample_data  stopwords.txt  test.txt\ttrain.txt\n"
          ],
          "name": "stdout"
        }
      ]
    },
    {
      "metadata": {
        "id": "igH2zD_zHY0y",
        "colab_type": "code",
        "colab": {}
      },
      "cell_type": "code",
      "source": [
        "import pandas as pd"
      ],
      "execution_count": 0,
      "outputs": []
    },
    {
      "metadata": {
        "id": "_i4RHqhvACXq",
        "colab_type": "code",
        "colab": {}
      },
      "cell_type": "code",
      "source": [
        "train_df = pd.read_csv('train.txt', sep='\\t', header=None,encoding='utf-8')"
      ],
      "execution_count": 0,
      "outputs": []
    },
    {
      "metadata": {
        "id": "U-gFHdwXIZ7x",
        "colab_type": "code",
        "outputId": "a37b02dc-44c6-480b-f2c5-a297ab54020b",
        "colab": {
          "base_uri": "https://localhost:8080/",
          "height": 204
        }
      },
      "cell_type": "code",
      "source": [
        "train_df.head()"
      ],
      "execution_count": 0,
      "outputs": [
        {
          "output_type": "execute_result",
          "data": {
            "text/html": [
              "<div>\n",
              "<style scoped>\n",
              "    .dataframe tbody tr th:only-of-type {\n",
              "        vertical-align: middle;\n",
              "    }\n",
              "\n",
              "    .dataframe tbody tr th {\n",
              "        vertical-align: top;\n",
              "    }\n",
              "\n",
              "    .dataframe thead th {\n",
              "        text-align: right;\n",
              "    }\n",
              "</style>\n",
              "<table border=\"1\" class=\"dataframe\">\n",
              "  <thead>\n",
              "    <tr style=\"text-align: right;\">\n",
              "      <th></th>\n",
              "      <th>0</th>\n",
              "      <th>1</th>\n",
              "    </tr>\n",
              "  </thead>\n",
              "  <tbody>\n",
              "    <tr>\n",
              "      <th>0</th>\n",
              "      <td>娱乐</td>\n",
              "      <td>《青蛇》造型师默认新《红楼梦》额妆抄袭（图） 凡是看过电影《青蛇》的人，都不会忘记青白二蛇的...</td>\n",
              "    </tr>\n",
              "    <tr>\n",
              "      <th>1</th>\n",
              "      <td>娱乐</td>\n",
              "      <td>６．１６日剧榜　＜最后的朋友＞　亮最后杀招成功登顶 《最后的朋友》本周的电视剧排行榜单依然只...</td>\n",
              "    </tr>\n",
              "    <tr>\n",
              "      <th>2</th>\n",
              "      <td>娱乐</td>\n",
              "      <td>超乎想象的好看《纳尼亚传奇２：凯斯宾王子》 现时资讯如此发达，搜狐电影评审团几乎人人在没有看...</td>\n",
              "    </tr>\n",
              "    <tr>\n",
              "      <th>3</th>\n",
              "      <td>娱乐</td>\n",
              "      <td>吴宇森：赤壁大战不会出现在上集 “希望《赤壁》能给你们不一样的感觉。”对于自己刚刚拍完的影片...</td>\n",
              "    </tr>\n",
              "    <tr>\n",
              "      <th>4</th>\n",
              "      <td>娱乐</td>\n",
              "      <td>组图：《多情女人痴情男》陈浩民现场耍宝 陈浩民：外面的朋友大家好，现在是搜狐现场直播，欢迎《...</td>\n",
              "    </tr>\n",
              "  </tbody>\n",
              "</table>\n",
              "</div>"
            ],
            "text/plain": [
              "    0                                                  1\n",
              "0  娱乐  《青蛇》造型师默认新《红楼梦》额妆抄袭（图） 凡是看过电影《青蛇》的人，都不会忘记青白二蛇的...\n",
              "1  娱乐  ６．１６日剧榜　＜最后的朋友＞　亮最后杀招成功登顶 《最后的朋友》本周的电视剧排行榜单依然只...\n",
              "2  娱乐  超乎想象的好看《纳尼亚传奇２：凯斯宾王子》 现时资讯如此发达，搜狐电影评审团几乎人人在没有看...\n",
              "3  娱乐  吴宇森：赤壁大战不会出现在上集 “希望《赤壁》能给你们不一样的感觉。”对于自己刚刚拍完的影片...\n",
              "4  娱乐  组图：《多情女人痴情男》陈浩民现场耍宝 陈浩民：外面的朋友大家好，现在是搜狐现场直播，欢迎《..."
            ]
          },
          "metadata": {
            "tags": []
          },
          "execution_count": 9
        }
      ]
    },
    {
      "metadata": {
        "id": "bbTipt03JSLH",
        "colab_type": "code",
        "colab": {}
      },
      "cell_type": "code",
      "source": [
        "train_df.columns = ['分类', '文章']"
      ],
      "execution_count": 0,
      "outputs": []
    },
    {
      "metadata": {
        "id": "19alq0ceYRBd",
        "colab_type": "code",
        "outputId": "a217131b-d737-4fdb-8629-1028bc4c71c8",
        "colab": {
          "base_uri": "https://localhost:8080/",
          "height": 35
        }
      },
      "cell_type": "code",
      "source": [
        "set(train_df['分类'])"
      ],
      "execution_count": 0,
      "outputs": [
        {
          "output_type": "execute_result",
          "data": {
            "text/plain": [
              "{'体育', '健康', '女人', '娱乐', '房地产', '教育', '文化', '新闻', '旅游', '汽车', '科技', '财经'}"
            ]
          },
          "metadata": {
            "tags": []
          },
          "execution_count": 11
        }
      ]
    },
    {
      "metadata": {
        "id": "jEXFlJJkYEYN",
        "colab_type": "code",
        "colab": {}
      },
      "cell_type": "code",
      "source": [
        "ty = train_df[train_df.分类=='体育'].文章.values.tolist()\n",
        "jk = train_df[train_df.分类=='健康'].文章.values.tolist()\n",
        "nr = train_df[train_df.分类=='女人'].文章.values.tolist()\n",
        "yl = train_df[train_df.分类=='娱乐'].文章.values.tolist()\n",
        "fdc = train_df[train_df.分类=='房地产'].文章.values.tolist()\n",
        "jy = train_df[train_df.分类=='教育'].文章.values.tolist()\n",
        "wh = train_df[train_df.分类=='文化'].文章.values.tolist()\n",
        "xw = train_df[train_df.分类=='新闻'].文章.values.tolist()\n",
        "ly = train_df[train_df.分类=='旅游'].文章.values.tolist()\n",
        "qc = train_df[train_df.分类=='汽车'].文章.values.tolist()\n",
        "kj = train_df[train_df.分类=='科技'].文章.values.tolist()\n",
        "cj = train_df[train_df.分类=='财经'].文章.values.tolist()"
      ],
      "execution_count": 0,
      "outputs": []
    },
    {
      "metadata": {
        "id": "OA8zgwViRF8d",
        "colab_type": "code",
        "outputId": "7dd281c9-ca22-4741-99f2-fad0667d0a66",
        "colab": {
          "base_uri": "https://localhost:8080/",
          "height": 55
        }
      },
      "cell_type": "code",
      "source": [
        "ty[0]"
      ],
      "execution_count": 0,
      "outputs": [
        {
          "output_type": "execute_result",
          "data": {
            "text/plain": [
              "'欧洲杯观察：足坛格局地震\\u3000东南欧已能占半边天 搜狐体育讯\\u3000土耳其与克罗地亚在本届欧洲杯１／４决赛中相遇，已经注定将有一支非欧洲传统足球发达地区的球队跻身半决赛。这看起来并不起眼，但却是欧洲杯有史以来第一次，连续两届有传统的足球落后地区球队打入欧洲杯的半决赛。不夸张的说，欧洲足球格局，正在地震着。毫无疑问，西欧是欧洲足球水平最发达的地区。德国、意大利、法国、英格兰、荷兰、西班牙等诸多欧洲传统豪强都集中在这个区域。虽然在地理位置上，意大利、法国和西班牙等国应属南欧，但从政治文化上，这些国家都是不折不扣的西欧国家。历届欧洲大赛，西欧国家都是最强有力的竞争者，而且几乎绝大多数时间，冠军都是西欧国家的囊中之物。不过在现代足球早期，东欧足球同样拥有不可小觑的实力。前苏联、前捷克斯洛伐克、前南斯拉夫和匈牙利等国都能与西欧劲旅一较长短。特别是在欧洲杯初办时，东欧足球一度还占据优势。第一届欧洲杯，前苏联、前南斯拉夫和前捷克斯洛伐克三支东欧球队包揽前三名；第二届欧洲杯，冠军虽然被西班牙捧走，但前苏联和匈牙利分获二、三名；第三届欧洲杯，又是两支东欧球队（前南斯拉夫和前捷克斯洛伐克）拱卫一支西欧球队（意大利）。此后一直到第七届欧洲杯之前，总有至少一支东欧球队可以杀进半决赛，前捷克斯洛伐克还曾经勇夺德劳内杯。但是随着世界经济格局的变化，东、西欧政治经济环境差距的迅速拉大，东欧各国足球水平严重下滑，已经开始渐渐难以与西欧国家抗衡。从１９８４年欧洲杯开始，东欧球队再也没有一次能连续两届杀进半决赛。从１９８０年到２０００年的２０年间，连续６届欧洲杯都被西欧（包括地理位置上的北欧）球队获得。欧洲杯已经成为西欧劲旅们私人的玩具。应该说，在那段时间里，东欧足球一直在走下坡路，前苏联和捷克等东欧传统强队偶露峥嵘，只不过凭借的是这些国家甚厚的足球底蕴，但整体上的确远比西欧足球强国逊色很多。不过世事无常，进入２１世纪以来，随着欧洲政治格局的再一次变化，东西欧界线的模糊，以东欧为代表的落后地区的足球事业开始又一次飞速发展。其中像捷克、前南斯拉夫等地区有天赋的球员大举进驻欧洲五大联赛，首先靠借鸡生蛋的模式让各自国家队水平有了大幅度提高；而希腊、土耳其等原本足球水平落后的南欧国家则大力从西欧的足球强国引进教练，从基础上发展了自己的足球运动。上届欧洲杯，希腊低调出征竟然一举夺取欧洲杯冠军，书写了欧洲杯历史上最不可思议的一段神话。当然，从整体实力上来说，希腊并不具备欧洲冠军的水平，本届欧洲杯希腊在小组赛连战皆败就是证明，他们能在欧洲杯上创造奇迹，在于明确的定位以及各路豪强对希腊重视不够。但即便如此，也要希腊具备一定的实力基础，才能从西欧列强身上讨得便宜。不仅如此，在该届欧洲杯上，捷克队打出了一波让人无法忽视的东欧旋风，事实上他们才是非西欧球队的代表，而那支捷克队，拥有与任何一支西欧劲旅相抗的实力。在国际足联国家队排行榜上，那支捷克队也长时间高居第二。如果说一届欧洲杯只是偶然，那么本届欧洲杯就真正吹响了非西欧地区足球崛起的号角。克罗地亚击败不可一世的德国，提前一轮锁定小组第一；而他们在１／４决赛中的对手是土耳其，一支来自亚欧交界处的国家。不论克罗地亚和土耳其谁获胜，都将确保半决赛中有一个非西欧国家席位。这是欧洲足球欠发达地区连续第二届杀进欧洲杯半决赛，在欧洲杯历史上还是第一次（欧洲杯早期，东欧也是足球发达地区）。而这还不算完。在尚未结束争夺的小组中，东欧球队仍然具有竞争力。罗马尼亚在Ｃ组排名第二，并且在最后一轮面对不会全力以赴的荷兰，极有可能杀进８强；Ｄ组俄罗斯与瑞典机会均等，最后一轮获胜的球队就能晋级复赛。也就是说，本届欧洲杯很有可能出现传统意义上的足球落后地区国家在８强中占据半边天的情况，如此大面积的爆发，决不能拿运气来解释。因此我们几乎可以断言，欧洲足球板块，正在发生剧烈的迁徙和碰撞，本届欧洲杯只是一个开始。现任欧足联主席普拉蒂尼的纲领就是大力提携足球欠发达地区，在他的领导下东欧和南欧等地区的足球水平必然还会有持续的发展。也许在俱乐部层面，西欧仍然会是欧洲乃至世界足球的中心，但在国家队层面，以东欧为代表的足球欠发达地区国家却正逐渐撼动着西欧国家的强势。也许未来几年内，东欧国家就能再一次与西欧国家分庭抗礼。这也是绝大多数球迷所乐见的，正如普拉蒂尼所言：“把足球还给踢球的人。”（搜狐体育\\u3000寒锋）（责任编辑：Ｇｅｍｉｎｉ\\u3000）'"
            ]
          },
          "metadata": {
            "tags": []
          },
          "execution_count": 13
        }
      ]
    },
    {
      "metadata": {
        "id": "jhFklB5kJX-V",
        "colab_type": "code",
        "colab": {}
      },
      "cell_type": "code",
      "source": [
        "download = drive.CreateFile({'id':'1rOI0ufmOz9SWBqt6quFY7xikffqyxh-N'})\n",
        "download.GetContentFile('stopwords.txt')"
      ],
      "execution_count": 0,
      "outputs": []
    },
    {
      "metadata": {
        "id": "q0IiKpm-Jn4M",
        "colab_type": "code",
        "colab": {}
      },
      "cell_type": "code",
      "source": [
        "with open('stopwords.txt', encoding='utf8') as file:\n",
        "    stopWord_list = [k.strip() for k in file.readlines()]"
      ],
      "execution_count": 0,
      "outputs": []
    },
    {
      "metadata": {
        "id": "iiRw9HzJa1pz",
        "colab_type": "code",
        "colab": {}
      },
      "cell_type": "code",
      "source": [
        "import numpy as np\n",
        "stopwords=np.array(stopWord_list)"
      ],
      "execution_count": 0,
      "outputs": []
    },
    {
      "metadata": {
        "id": "WfD6BSPAcAhI",
        "colab_type": "code",
        "outputId": "c35ca220-6f2e-4aa5-eec4-17f8e0b4b005",
        "colab": {
          "base_uri": "https://localhost:8080/",
          "height": 89
        }
      },
      "cell_type": "code",
      "source": [
        "# 构建数据集\n",
        "import jieba\n",
        "def preprocess_text(content_lines, sentences, category):\n",
        "    for line in content_lines:\n",
        "        try:\n",
        "            segs=jieba.lcut(line)\n",
        "            segs = filter(lambda x:len(x)>1, segs)\n",
        "            segs = filter(lambda x:x not in stopwords, segs)\n",
        "            sentences.append((\" \".join(segs), category))\n",
        "        except Exception as e:\n",
        "#             print(line)\n",
        "            log.append((\" \".join(line), category))\n",
        "            continue\n",
        "\n",
        "#生成训练数据\n",
        "sentences = []\n",
        "log=[]\n",
        "preprocess_text(ty, sentences, 'ty')\n",
        "preprocess_text(jk, sentences, 'jk')\n",
        "preprocess_text(nr, sentences, 'nr')\n",
        "preprocess_text(yl, sentences, 'yl')\n",
        "preprocess_text(fdc, sentences, 'fdc')\n",
        "preprocess_text(jy, sentences, 'jy')\n",
        "preprocess_text(wh, sentences, 'wh')\n",
        "preprocess_text(xw, sentences, 'xw')\n",
        "preprocess_text(ly, sentences, 'ly')\n",
        "preprocess_text(qc, sentences, 'qc')\n",
        "preprocess_text(kj, sentences, 'kj')\n",
        "preprocess_text(cj, sentences, 'cj')"
      ],
      "execution_count": 0,
      "outputs": [
        {
          "output_type": "stream",
          "text": [
            "Building prefix dict from the default dictionary ...\n",
            "Loading model from cache /tmp/jieba.cache\n",
            "Loading model cost 0.685 seconds.\n",
            "Prefix dict has been built succesfully.\n"
          ],
          "name": "stderr"
        }
      ]
    },
    {
      "metadata": {
        "id": "W11g76BZnfew",
        "colab_type": "code",
        "outputId": "ad511110-5e3b-4f62-900f-77b9b1ea709d",
        "colab": {
          "base_uri": "https://localhost:8080/",
          "height": 35
        }
      },
      "cell_type": "code",
      "source": [
        "len(sentences),len(log)"
      ],
      "execution_count": 0,
      "outputs": [
        {
          "output_type": "execute_result",
          "data": {
            "text/plain": [
              "(24000, 0)"
            ]
          },
          "metadata": {
            "tags": []
          },
          "execution_count": 19
        }
      ]
    },
    {
      "metadata": {
        "id": "gOhU15Psdc8B",
        "colab_type": "code",
        "colab": {}
      },
      "cell_type": "code",
      "source": [
        "download = drive.CreateFile({'id':'1BmP9IbcJK-XdnKnsP7Ta6cNwZsYpewWt'})\n",
        "download.GetContentFile('test.txt')"
      ],
      "execution_count": 0,
      "outputs": []
    },
    {
      "metadata": {
        "id": "_ujZhsyneEPn",
        "colab_type": "code",
        "colab": {}
      },
      "cell_type": "code",
      "source": [
        "test_df = pd.read_csv('test.txt', sep='\\t', header=None,encoding='utf-8')"
      ],
      "execution_count": 0,
      "outputs": []
    },
    {
      "metadata": {
        "id": "Pw6eS8yPeIDo",
        "colab_type": "code",
        "outputId": "ca2693bf-e1b1-42c6-e08b-7867062e1a4a",
        "colab": {
          "base_uri": "https://localhost:8080/",
          "height": 204
        }
      },
      "cell_type": "code",
      "source": [
        "test_df.head()"
      ],
      "execution_count": 0,
      "outputs": [
        {
          "output_type": "execute_result",
          "data": {
            "text/html": [
              "<div>\n",
              "<style scoped>\n",
              "    .dataframe tbody tr th:only-of-type {\n",
              "        vertical-align: middle;\n",
              "    }\n",
              "\n",
              "    .dataframe tbody tr th {\n",
              "        vertical-align: top;\n",
              "    }\n",
              "\n",
              "    .dataframe thead th {\n",
              "        text-align: right;\n",
              "    }\n",
              "</style>\n",
              "<table border=\"1\" class=\"dataframe\">\n",
              "  <thead>\n",
              "    <tr style=\"text-align: right;\">\n",
              "      <th></th>\n",
              "      <th>0</th>\n",
              "      <th>1</th>\n",
              "    </tr>\n",
              "  </thead>\n",
              "  <tbody>\n",
              "    <tr>\n",
              "      <th>0</th>\n",
              "      <td>娱乐</td>\n",
              "      <td>组图：黄健翔拍时装大片　承认口无遮拦 ２００６年之前，他只是最好的体育节目主持人之一。２００...</td>\n",
              "    </tr>\n",
              "    <tr>\n",
              "      <th>1</th>\n",
              "      <td>娱乐</td>\n",
              "      <td>奥运明星写真集锦曝光　展现健康时尚（图） 来源：人民网奥运明星奥运明星大满贯――属于最强者的...</td>\n",
              "    </tr>\n",
              "    <tr>\n",
              "      <th>2</th>\n",
              "      <td>娱乐</td>\n",
              "      <td>内地票房榜：《功夫熊猫》获全胜　带动内地影市 《功夫熊猫》首映周末逼４０００万２００６年１月...</td>\n",
              "    </tr>\n",
              "    <tr>\n",
              "      <th>3</th>\n",
              "      <td>娱乐</td>\n",
              "      <td>编者按： 昨天，央视紧急停播动画片《虹猫蓝兔七侠传》事件经报道后，引发了数十万网民的热烈大辩...</td>\n",
              "    </tr>\n",
              "    <tr>\n",
              "      <th>4</th>\n",
              "      <td>娱乐</td>\n",
              "      <td>第十一届上海国际电影节　金爵奖评委名单 ［点击图片进入下一页］金爵奖评委陈冲陈冲（美籍华裔女...</td>\n",
              "    </tr>\n",
              "  </tbody>\n",
              "</table>\n",
              "</div>"
            ],
            "text/plain": [
              "    0                                                  1\n",
              "0  娱乐  组图：黄健翔拍时装大片　承认口无遮拦 ２００６年之前，他只是最好的体育节目主持人之一。２００...\n",
              "1  娱乐  奥运明星写真集锦曝光　展现健康时尚（图） 来源：人民网奥运明星奥运明星大满贯――属于最强者的...\n",
              "2  娱乐  内地票房榜：《功夫熊猫》获全胜　带动内地影市 《功夫熊猫》首映周末逼４０００万２００６年１月...\n",
              "3  娱乐  编者按： 昨天，央视紧急停播动画片《虹猫蓝兔七侠传》事件经报道后，引发了数十万网民的热烈大辩...\n",
              "4  娱乐  第十一届上海国际电影节　金爵奖评委名单 ［点击图片进入下一页］金爵奖评委陈冲陈冲（美籍华裔女..."
            ]
          },
          "metadata": {
            "tags": []
          },
          "execution_count": 22
        }
      ]
    },
    {
      "metadata": {
        "id": "OW_E5wHmeMTX",
        "colab_type": "code",
        "colab": {}
      },
      "cell_type": "code",
      "source": [
        "test_df.columns = ['分类', '文章']"
      ],
      "execution_count": 0,
      "outputs": []
    },
    {
      "metadata": {
        "id": "weAGg202eTVY",
        "colab_type": "code",
        "outputId": "3a0e1e3b-8cbc-4142-d4a2-bd5912c809b2",
        "colab": {
          "base_uri": "https://localhost:8080/",
          "height": 35
        }
      },
      "cell_type": "code",
      "source": [
        "set(test_df.分类)"
      ],
      "execution_count": 0,
      "outputs": [
        {
          "output_type": "execute_result",
          "data": {
            "text/plain": [
              "{'体育', '健康', '女人', '娱乐', '房地产', '教育', '文化', '新闻', '旅游', '汽车', '科技', '财经'}"
            ]
          },
          "metadata": {
            "tags": []
          },
          "execution_count": 24
        }
      ]
    },
    {
      "metadata": {
        "id": "ExqFIIaneWzm",
        "colab_type": "code",
        "colab": {}
      },
      "cell_type": "code",
      "source": [
        "ty_test = test_df[test_df.分类=='体育'].文章.values.tolist()\n",
        "jk_test = test_df[test_df.分类=='健康'].文章.values.tolist()\n",
        "nr_test = test_df[test_df.分类=='女人'].文章.values.tolist()\n",
        "yl_test = test_df[test_df.分类=='娱乐'].文章.values.tolist()\n",
        "fdc_test = test_df[test_df.分类=='房地产'].文章.values.tolist()\n",
        "jy_test = test_df[test_df.分类=='教育'].文章.values.tolist()\n",
        "wh_test = test_df[test_df.分类=='文化'].文章.values.tolist()\n",
        "xw_test = test_df[test_df.分类=='新闻'].文章.values.tolist()\n",
        "ly_test = test_df[test_df.分类=='旅游'].文章.values.tolist()\n",
        "qc_test = test_df[test_df.分类=='汽车'].文章.values.tolist()\n",
        "kj_test = test_df[test_df.分类=='科技'].文章.values.tolist()\n",
        "cj_test = test_df[test_df.分类=='财经'].文章.values.tolist()"
      ],
      "execution_count": 0,
      "outputs": []
    },
    {
      "metadata": {
        "id": "zoF0P-5bieQr",
        "colab_type": "code",
        "colab": {}
      },
      "cell_type": "code",
      "source": [
        "#生成测试数据\n",
        "sentences_test = []\n",
        "\n",
        "preprocess_text(ty_test, sentences_test, 'ty')\n",
        "preprocess_text(jk_test, sentences_test, 'jk')\n",
        "preprocess_text(nr_test, sentences_test, 'nr')\n",
        "preprocess_text(yl_test, sentences_test, 'yl')\n",
        "preprocess_text(fdc_test, sentences_test, 'fdc')\n",
        "preprocess_text(jy_test, sentences_test, 'jy')\n",
        "preprocess_text(wh_test, sentences_test, 'wh')\n",
        "preprocess_text(xw_test, sentences_test, 'xw')\n",
        "preprocess_text(ly_test, sentences_test, 'ly')\n",
        "preprocess_text(qc_test, sentences_test, 'qc')\n",
        "preprocess_text(kj_test, sentences_test, 'kj')\n",
        "preprocess_text(cj_test, sentences_test, 'cj')"
      ],
      "execution_count": 0,
      "outputs": []
    },
    {
      "metadata": {
        "id": "1WgLObKIUD8D",
        "colab_type": "code",
        "outputId": "14e84f67-5a39-4dcc-c57e-5ef0fcdd978a",
        "colab": {
          "base_uri": "https://localhost:8080/",
          "height": 35
        }
      },
      "cell_type": "code",
      "source": [
        "len(sentences_test),len(log)"
      ],
      "execution_count": 0,
      "outputs": [
        {
          "output_type": "execute_result",
          "data": {
            "text/plain": [
              "(12000, 0)"
            ]
          },
          "metadata": {
            "tags": []
          },
          "execution_count": 27
        }
      ]
    },
    {
      "metadata": {
        "id": "Jfry3Vwui8Na",
        "colab_type": "code",
        "colab": {}
      },
      "cell_type": "code",
      "source": [
        "train_data, train_target= zip(*sentences)"
      ],
      "execution_count": 0,
      "outputs": []
    },
    {
      "metadata": {
        "id": "mLZwzFGajYtJ",
        "colab_type": "code",
        "colab": {}
      },
      "cell_type": "code",
      "source": [
        "test_data, test_target= zip(*sentences_test)"
      ],
      "execution_count": 0,
      "outputs": []
    },
    {
      "metadata": {
        "id": "6ADMIcjPUbJy",
        "colab_type": "code",
        "outputId": "e6765c81-0eef-4565-ded7-f5bca654ac0d",
        "colab": {
          "base_uri": "https://localhost:8080/",
          "height": 143
        }
      },
      "cell_type": "code",
      "source": [
        "\"\"\"\n",
        "基于卷积神经网络的中文文本分类\n",
        "\"\"\"\n",
        "\n",
        "from __future__ import absolute_import\n",
        "from __future__ import division\n",
        "from __future__ import print_function\n",
        "\n",
        "import argparse\n",
        "import sys\n",
        "\n",
        "import numpy as np\n",
        "import pandas\n",
        "from sklearn import metrics\n",
        "import tensorflow as tf\n",
        "\n",
        "learn = tf.contrib.learn\n",
        "\n",
        "FLAGS = None\n",
        "\n",
        "#文档最长长度\n",
        "MAX_DOCUMENT_LENGTH = 100\n",
        "#最小词频数\n",
        "MIN_WORD_FREQUENCE = 2\n",
        "#词嵌入的维度\n",
        "EMBEDDING_SIZE = 20\n",
        "#filter个数\n",
        "N_FILTERS = 10\n",
        "#感知野大小\n",
        "WINDOW_SIZE = 20\n",
        "#filter的形状\n",
        "FILTER_SHAPE1 = [WINDOW_SIZE, EMBEDDING_SIZE]\n",
        "FILTER_SHAPE2 = [WINDOW_SIZE, N_FILTERS]\n",
        "#池化\n",
        "POOLING_WINDOW = 4\n",
        "POOLING_STRIDE = 2\n",
        "n_words = 0\n",
        "\n",
        "\n",
        "def cnn_model(features, target):\n",
        "    \"\"\"\n",
        "    2层的卷积神经网络，用于短文本分类\n",
        "    \"\"\"\n",
        "    # 先把词转成词嵌入\n",
        "    # 我们得到一个形状为[n_words, EMBEDDING_SIZE]的词表映射矩阵\n",
        "    # 接着我们可以把一批文本映射成[batch_size, sequence_length, EMBEDDING_SIZE]的矩阵形式\n",
        "    target = tf.one_hot(target, 15, 1, 0)\n",
        "    word_vectors = tf.contrib.layers.embed_sequence(\n",
        "            features, vocab_size=n_words, embed_dim=EMBEDDING_SIZE, scope='words')\n",
        "    word_vectors = tf.expand_dims(word_vectors, 3)\n",
        "    with tf.variable_scope('CNN_Layer1'):\n",
        "        # 添加卷积层做滤波\n",
        "        conv1 = tf.contrib.layers.convolution2d(\n",
        "                word_vectors, N_FILTERS, FILTER_SHAPE1, padding='VALID')\n",
        "        # 添加RELU非线性\n",
        "        conv1 = tf.nn.relu(conv1)\n",
        "        # 最大池化\n",
        "        pool1 = tf.nn.max_pool(\n",
        "                conv1,\n",
        "                ksize=[1, POOLING_WINDOW, 1, 1],\n",
        "                strides=[1, POOLING_STRIDE, 1, 1],\n",
        "                padding='SAME')\n",
        "        # 对矩阵进行转置，以满足形状\n",
        "        pool1 = tf.transpose(pool1, [0, 1, 3, 2])\n",
        "    with tf.variable_scope('CNN_Layer2'):\n",
        "        # 第2个卷积层\n",
        "        conv2 = tf.contrib.layers.convolution2d(\n",
        "                pool1, N_FILTERS, FILTER_SHAPE2, padding='VALID')\n",
        "        # 抽取特征\n",
        "        pool2 = tf.squeeze(tf.reduce_max(conv2, 1), squeeze_dims=[1])\n",
        "\n",
        "    # 全连接层\n",
        "    logits = tf.contrib.layers.fully_connected(pool2, 15, activation_fn=None)\n",
        "    loss = tf.losses.softmax_cross_entropy(target, logits)\n",
        "\n",
        "    train_op = tf.contrib.layers.optimize_loss(\n",
        "            loss,\n",
        "            tf.contrib.framework.get_global_step(),\n",
        "            optimizer='Adam',\n",
        "            learning_rate=0.01)\n",
        "\n",
        "    return ({\n",
        "            'class': tf.argmax(logits, 1),\n",
        "            'prob': tf.nn.softmax(logits)\n",
        "    }, loss, train_op)"
      ],
      "execution_count": 0,
      "outputs": [
        {
          "output_type": "stream",
          "text": [
            "\n",
            "WARNING: The TensorFlow contrib module will not be included in TensorFlow 2.0.\n",
            "For more information, please see:\n",
            "  * https://github.com/tensorflow/community/blob/master/rfcs/20180907-contrib-sunset.md\n",
            "  * https://github.com/tensorflow/addons\n",
            "If you depend on functionality not listed there, please file an issue.\n",
            "\n"
          ],
          "name": "stdout"
        }
      ]
    },
    {
      "metadata": {
        "id": "P6G-yU_AZ9g7",
        "colab_type": "code",
        "outputId": "ef680b49-7720-4575-d33b-13850e8dbad9",
        "colab": {
          "base_uri": "https://localhost:8080/",
          "height": 217
        }
      },
      "cell_type": "code",
      "source": [
        "global n_words\n",
        "# 处理词汇\n",
        "vocab_processor = learn.preprocessing.VocabularyProcessor(MAX_DOCUMENT_LENGTH, min_frequency=MIN_WORD_FREQUENCE)\n",
        "x_train = np.array(list(vocab_processor.fit_transform(train_data)))\n",
        "x_test = np.array(list(vocab_processor.transform(test_data)))\n",
        "n_words = len(vocab_processor.vocabulary_)\n",
        "print('Total words: %d' % n_words)"
      ],
      "execution_count": 0,
      "outputs": [
        {
          "output_type": "stream",
          "text": [
            "WARNING:tensorflow:From <ipython-input-31-101cbea574b0>:3: VocabularyProcessor.__init__ (from tensorflow.contrib.learn.python.learn.preprocessing.text) is deprecated and will be removed in a future version.\n",
            "Instructions for updating:\n",
            "Please use tensorflow/transform or tf.data.\n",
            "WARNING:tensorflow:From /usr/local/lib/python3.6/dist-packages/tensorflow/contrib/learn/python/learn/preprocessing/text.py:154: CategoricalVocabulary.__init__ (from tensorflow.contrib.learn.python.learn.preprocessing.categorical_vocabulary) is deprecated and will be removed in a future version.\n",
            "Instructions for updating:\n",
            "Please use tensorflow/transform or tf.data.\n",
            "WARNING:tensorflow:From /usr/local/lib/python3.6/dist-packages/tensorflow/contrib/learn/python/learn/preprocessing/text.py:170: tokenizer (from tensorflow.contrib.learn.python.learn.preprocessing.text) is deprecated and will be removed in a future version.\n",
            "Instructions for updating:\n",
            "Please use tensorflow/transform or tf.data.\n",
            "Total words: 165819\n"
          ],
          "name": "stdout"
        }
      ]
    },
    {
      "metadata": {
        "id": "sj7z03xhaNi4",
        "colab_type": "code",
        "colab": {}
      },
      "cell_type": "code",
      "source": [
        "cate_dic = {'ty':1, 'jk':2, 'nr':3, 'yl':4, 'fdc':5,'jy':6,'wh':7,'xw':8,'ly':9,'qc':10,'kj':11,'cj':12}\n",
        "train_target = map(lambda x:cate_dic[x], train_target)\n",
        "test_target = map(lambda x:cate_dic[x], test_target)\n",
        "y_train = pandas.Series(train_target)\n",
        "y_test = pandas.Series(test_target)"
      ],
      "execution_count": 0,
      "outputs": []
    },
    {
      "metadata": {
        "id": "UmJ_Lc_2a7eh",
        "colab_type": "code",
        "outputId": "cf490b39-43d0-4803-93e3-8a3b9bb52283",
        "colab": {
          "base_uri": "https://localhost:8080/",
          "height": 1891
        }
      },
      "cell_type": "code",
      "source": [
        "# 构建模型\n",
        "classifier = learn.SKCompat(learn.Estimator(model_fn=cnn_model))\n",
        "\n",
        "# 训练和预测\n",
        "classifier.fit(x_train, y_train, steps=1000)\n",
        "y_predicted = classifier.predict(x_test)['class']\n",
        "score = metrics.accuracy_score(y_test, y_predicted)\n",
        "\n",
        "# score_f1=metrics.f1_score(y_test, y_predicted)\n",
        "# score_pre=metrics.precision_score(y_test, y_predicted)\n",
        "# score_recall=metrics.recall_score(y_test, y_predicted)\n",
        "print('Accuracy: {0:f}'.format(score))\n",
        "# print('f1: {0:f}'.format(score_f1))\n",
        "# print('precision: {0:f}'.format(score_pre))\n",
        "# print('recall: {0:f}'.format(score_recall))\n",
        "print(metrics.confusion_matrix(y_test, y_predicted))"
      ],
      "execution_count": 0,
      "outputs": [
        {
          "output_type": "stream",
          "text": [
            "WARNING:tensorflow:From /usr/local/lib/python3.6/dist-packages/tensorflow/contrib/learn/python/learn/estimators/estimator.py:1179: BaseEstimator.__init__ (from tensorflow.contrib.learn.python.learn.estimators.estimator) is deprecated and will be removed in a future version.\n",
            "Instructions for updating:\n",
            "Please replace uses of any Estimator from tf.contrib.learn with an Estimator from tf.estimator.*\n",
            "WARNING:tensorflow:From /usr/local/lib/python3.6/dist-packages/tensorflow/contrib/learn/python/learn/estimators/estimator.py:427: RunConfig.__init__ (from tensorflow.contrib.learn.python.learn.estimators.run_config) is deprecated and will be removed in a future version.\n",
            "Instructions for updating:\n",
            "When switching to tf.estimator.Estimator, use tf.estimator.RunConfig instead.\n",
            "INFO:tensorflow:Using default config.\n",
            "WARNING:tensorflow:Using temporary folder as model directory: /tmp/tmpz35h143u\n",
            "INFO:tensorflow:Using config: {'_task_type': None, '_task_id': 0, '_cluster_spec': <tensorflow.python.training.server_lib.ClusterSpec object at 0x7efebd9b60f0>, '_master': '', '_num_ps_replicas': 0, '_num_worker_replicas': 0, '_environment': 'local', '_is_chief': True, '_evaluation_master': '', '_train_distribute': None, '_eval_distribute': None, '_device_fn': None, '_tf_config': gpu_options {\n",
            "  per_process_gpu_memory_fraction: 1.0\n",
            "}\n",
            ", '_tf_random_seed': None, '_save_summary_steps': 100, '_save_checkpoints_secs': 600, '_log_step_count_steps': 100, '_protocol': None, '_session_config': None, '_save_checkpoints_steps': None, '_keep_checkpoint_max': 5, '_keep_checkpoint_every_n_hours': 10000, '_model_dir': '/tmp/tmpz35h143u'}\n",
            "WARNING:tensorflow:From <ipython-input-33-4ca0b6adc6db>:1: SKCompat.__init__ (from tensorflow.contrib.learn.python.learn.estimators.estimator) is deprecated and will be removed in a future version.\n",
            "Instructions for updating:\n",
            "Please switch to the Estimator interface.\n",
            "WARNING:tensorflow:From /usr/local/lib/python3.6/dist-packages/tensorflow/contrib/learn/python/learn/estimators/estimator.py:143: setup_train_data_feeder (from tensorflow.contrib.learn.python.learn.learn_io.data_feeder) is deprecated and will be removed in a future version.\n",
            "Instructions for updating:\n",
            "Please use tensorflow/transform or tf.data.\n",
            "WARNING:tensorflow:From /usr/local/lib/python3.6/dist-packages/tensorflow/contrib/learn/python/learn/learn_io/data_feeder.py:96: extract_dask_data (from tensorflow.contrib.learn.python.learn.learn_io.dask_io) is deprecated and will be removed in a future version.\n",
            "Instructions for updating:\n",
            "Please feed input to tf.data to support dask.\n",
            "WARNING:tensorflow:From /usr/local/lib/python3.6/dist-packages/tensorflow/contrib/learn/python/learn/learn_io/data_feeder.py:98: extract_dask_labels (from tensorflow.contrib.learn.python.learn.learn_io.dask_io) is deprecated and will be removed in a future version.\n",
            "Instructions for updating:\n",
            "Please feed input to tf.data to support dask.\n",
            "WARNING:tensorflow:From /usr/local/lib/python3.6/dist-packages/tensorflow/contrib/learn/python/learn/learn_io/data_feeder.py:100: extract_pandas_data (from tensorflow.contrib.learn.python.learn.learn_io.pandas_io) is deprecated and will be removed in a future version.\n",
            "Instructions for updating:\n",
            "Please access pandas data directly.\n",
            "WARNING:tensorflow:From /usr/local/lib/python3.6/dist-packages/tensorflow/contrib/learn/python/learn/learn_io/data_feeder.py:102: extract_pandas_labels (from tensorflow.contrib.learn.python.learn.learn_io.pandas_io) is deprecated and will be removed in a future version.\n",
            "Instructions for updating:\n",
            "Please access pandas data directly.\n",
            "WARNING:tensorflow:From /usr/local/lib/python3.6/dist-packages/tensorflow/contrib/learn/python/learn/learn_io/data_feeder.py:159: DataFeeder.__init__ (from tensorflow.contrib.learn.python.learn.learn_io.data_feeder) is deprecated and will be removed in a future version.\n",
            "Instructions for updating:\n",
            "Please use tensorflow/transform or tf.data.\n",
            "WARNING:tensorflow:From /usr/local/lib/python3.6/dist-packages/tensorflow/contrib/learn/python/learn/learn_io/data_feeder.py:340: check_array (from tensorflow.contrib.learn.python.learn.learn_io.data_feeder) is deprecated and will be removed in a future version.\n",
            "Instructions for updating:\n",
            "Please convert numpy dtypes explicitly.\n",
            "WARNING:tensorflow:From /usr/local/lib/python3.6/dist-packages/tensorflow/python/framework/op_def_library.py:263: colocate_with (from tensorflow.python.framework.ops) is deprecated and will be removed in a future version.\n",
            "Instructions for updating:\n",
            "Colocations handled automatically by placer.\n",
            "WARNING:tensorflow:From <ipython-input-30-c2c13d88f68c>:70: calling squeeze (from tensorflow.python.ops.array_ops) with squeeze_dims is deprecated and will be removed in a future version.\n",
            "Instructions for updating:\n",
            "Use the `axis` argument instead\n",
            "WARNING:tensorflow:From /usr/local/lib/python3.6/dist-packages/tensorflow/python/ops/losses/losses_impl.py:209: to_float (from tensorflow.python.ops.math_ops) is deprecated and will be removed in a future version.\n",
            "Instructions for updating:\n",
            "Use tf.cast instead.\n",
            "WARNING:tensorflow:From <ipython-input-30-c2c13d88f68c>:78: get_global_step (from tensorflow.contrib.framework.python.ops.variables) is deprecated and will be removed in a future version.\n",
            "Instructions for updating:\n",
            "Please switch to tf.train.get_global_step\n",
            "WARNING:tensorflow:From /usr/local/lib/python3.6/dist-packages/tensorflow/python/ops/math_ops.py:3066: to_int32 (from tensorflow.python.ops.math_ops) is deprecated and will be removed in a future version.\n",
            "Instructions for updating:\n",
            "Use tf.cast instead.\n",
            "WARNING:tensorflow:From /usr/local/lib/python3.6/dist-packages/tensorflow/python/ops/math_grad.py:102: div (from tensorflow.python.ops.math_ops) is deprecated and will be removed in a future version.\n",
            "Instructions for updating:\n",
            "Deprecated in favor of operator or tf.math.divide.\n",
            "WARNING:tensorflow:From /usr/local/lib/python3.6/dist-packages/tensorflow/contrib/learn/python/learn/estimators/estimator.py:1240: ModelFnOps.__new__ (from tensorflow.contrib.learn.python.learn.estimators.model_fn) is deprecated and will be removed in a future version.\n",
            "Instructions for updating:\n",
            "When switching to tf.estimator.Estimator, use tf.estimator.EstimatorSpec. You can use the `estimator_spec` method to create an equivalent one.\n",
            "INFO:tensorflow:Create CheckpointSaverHook.\n",
            "INFO:tensorflow:Graph was finalized.\n",
            "INFO:tensorflow:Running local_init_op.\n",
            "INFO:tensorflow:Done running local_init_op.\n",
            "INFO:tensorflow:Saving checkpoints for 0 into /tmp/tmpz35h143u/model.ckpt.\n",
            "INFO:tensorflow:loss = 2.708068, step = 0\n",
            "INFO:tensorflow:global_step/sec: 139.329\n",
            "INFO:tensorflow:loss = 1.0312549, step = 100 (0.722 sec)\n",
            "INFO:tensorflow:global_step/sec: 147.126\n",
            "INFO:tensorflow:loss = 0.5039314, step = 200 (0.676 sec)\n",
            "INFO:tensorflow:global_step/sec: 151.38\n",
            "INFO:tensorflow:loss = 0.5130823, step = 300 (0.661 sec)\n",
            "INFO:tensorflow:global_step/sec: 159.89\n",
            "INFO:tensorflow:loss = 0.15114339, step = 400 (0.625 sec)\n",
            "INFO:tensorflow:global_step/sec: 158.177\n",
            "INFO:tensorflow:loss = 0.3006363, step = 500 (0.635 sec)\n",
            "INFO:tensorflow:global_step/sec: 158.477\n",
            "INFO:tensorflow:loss = 0.14507493, step = 600 (0.630 sec)\n",
            "INFO:tensorflow:global_step/sec: 156.948\n",
            "INFO:tensorflow:loss = 0.109663665, step = 700 (0.635 sec)\n",
            "INFO:tensorflow:global_step/sec: 159.795\n",
            "INFO:tensorflow:loss = 0.10684786, step = 800 (0.628 sec)\n",
            "INFO:tensorflow:global_step/sec: 158.157\n",
            "INFO:tensorflow:loss = 0.16675358, step = 900 (0.633 sec)\n",
            "INFO:tensorflow:Saving checkpoints for 1000 into /tmp/tmpz35h143u/model.ckpt.\n",
            "INFO:tensorflow:Loss for final step: 0.08275853.\n",
            "INFO:tensorflow:Graph was finalized.\n",
            "WARNING:tensorflow:From /usr/local/lib/python3.6/dist-packages/tensorflow/python/training/saver.py:1266: checkpoint_exists (from tensorflow.python.training.checkpoint_management) is deprecated and will be removed in a future version.\n",
            "Instructions for updating:\n",
            "Use standard file APIs to check for files with this prefix.\n",
            "INFO:tensorflow:Restoring parameters from /tmp/tmpz35h143u/model.ckpt-1000\n",
            "INFO:tensorflow:Running local_init_op.\n",
            "INFO:tensorflow:Done running local_init_op.\n",
            "Accuracy: 0.825167\n",
            "[[957   0   1   6  10  18   0   1   6   0   0   1]\n",
            " [  0 816  25   5   0  12  11  47  30   0  28  26]\n",
            " [  2   7 898  11   1  21  35   7  15   0   3   0]\n",
            " [  1   0  33 830   1   7 105   5  14   1   3   0]\n",
            " [ 14   0   3   1 806  11   8  36  13   3   7  98]\n",
            " [  0   2  20   3   1 909  17  33   9   0   1   5]\n",
            " [  1   5  33  87   2  21 772  32  19   5  11  12]\n",
            " [  5  19   4   5  17  59  62 670  36   3  24  96]\n",
            " [  2   5  16   7  14  26  42  45 818   1  16   8]\n",
            " [  6   3   7   1   6   3  17  10   7 863  19  58]\n",
            " [  0  14   6   5   8  12  39  28  20   6 782  80]\n",
            " [  1   1   1   0  34   6  20 109  11  11  25 781]]\n"
          ],
          "name": "stdout"
        }
      ]
    },
    {
      "metadata": {
        "id": "Z1bJH0J0dYPe",
        "colab_type": "code",
        "outputId": "b1535b9e-db7f-432f-e305-9fef6a84e633",
        "colab": {
          "base_uri": "https://localhost:8080/",
          "height": 421
        }
      },
      "cell_type": "code",
      "source": [
        "pd.DataFrame(metrics.confusion_matrix(y_test, y_predicted), \n",
        "             columns=set(train_df['分类']), \n",
        "             index=set(train_df['分类']))"
      ],
      "execution_count": 0,
      "outputs": [
        {
          "output_type": "execute_result",
          "data": {
            "text/html": [
              "<div>\n",
              "<style scoped>\n",
              "    .dataframe tbody tr th:only-of-type {\n",
              "        vertical-align: middle;\n",
              "    }\n",
              "\n",
              "    .dataframe tbody tr th {\n",
              "        vertical-align: top;\n",
              "    }\n",
              "\n",
              "    .dataframe thead th {\n",
              "        text-align: right;\n",
              "    }\n",
              "</style>\n",
              "<table border=\"1\" class=\"dataframe\">\n",
              "  <thead>\n",
              "    <tr style=\"text-align: right;\">\n",
              "      <th></th>\n",
              "      <th>房地产</th>\n",
              "      <th>娱乐</th>\n",
              "      <th>汽车</th>\n",
              "      <th>教育</th>\n",
              "      <th>女人</th>\n",
              "      <th>财经</th>\n",
              "      <th>体育</th>\n",
              "      <th>健康</th>\n",
              "      <th>新闻</th>\n",
              "      <th>旅游</th>\n",
              "      <th>科技</th>\n",
              "      <th>文化</th>\n",
              "    </tr>\n",
              "  </thead>\n",
              "  <tbody>\n",
              "    <tr>\n",
              "      <th>房地产</th>\n",
              "      <td>957</td>\n",
              "      <td>0</td>\n",
              "      <td>1</td>\n",
              "      <td>6</td>\n",
              "      <td>10</td>\n",
              "      <td>18</td>\n",
              "      <td>0</td>\n",
              "      <td>1</td>\n",
              "      <td>6</td>\n",
              "      <td>0</td>\n",
              "      <td>0</td>\n",
              "      <td>1</td>\n",
              "    </tr>\n",
              "    <tr>\n",
              "      <th>娱乐</th>\n",
              "      <td>0</td>\n",
              "      <td>816</td>\n",
              "      <td>25</td>\n",
              "      <td>5</td>\n",
              "      <td>0</td>\n",
              "      <td>12</td>\n",
              "      <td>11</td>\n",
              "      <td>47</td>\n",
              "      <td>30</td>\n",
              "      <td>0</td>\n",
              "      <td>28</td>\n",
              "      <td>26</td>\n",
              "    </tr>\n",
              "    <tr>\n",
              "      <th>汽车</th>\n",
              "      <td>2</td>\n",
              "      <td>7</td>\n",
              "      <td>898</td>\n",
              "      <td>11</td>\n",
              "      <td>1</td>\n",
              "      <td>21</td>\n",
              "      <td>35</td>\n",
              "      <td>7</td>\n",
              "      <td>15</td>\n",
              "      <td>0</td>\n",
              "      <td>3</td>\n",
              "      <td>0</td>\n",
              "    </tr>\n",
              "    <tr>\n",
              "      <th>教育</th>\n",
              "      <td>1</td>\n",
              "      <td>0</td>\n",
              "      <td>33</td>\n",
              "      <td>830</td>\n",
              "      <td>1</td>\n",
              "      <td>7</td>\n",
              "      <td>105</td>\n",
              "      <td>5</td>\n",
              "      <td>14</td>\n",
              "      <td>1</td>\n",
              "      <td>3</td>\n",
              "      <td>0</td>\n",
              "    </tr>\n",
              "    <tr>\n",
              "      <th>女人</th>\n",
              "      <td>14</td>\n",
              "      <td>0</td>\n",
              "      <td>3</td>\n",
              "      <td>1</td>\n",
              "      <td>806</td>\n",
              "      <td>11</td>\n",
              "      <td>8</td>\n",
              "      <td>36</td>\n",
              "      <td>13</td>\n",
              "      <td>3</td>\n",
              "      <td>7</td>\n",
              "      <td>98</td>\n",
              "    </tr>\n",
              "    <tr>\n",
              "      <th>财经</th>\n",
              "      <td>0</td>\n",
              "      <td>2</td>\n",
              "      <td>20</td>\n",
              "      <td>3</td>\n",
              "      <td>1</td>\n",
              "      <td>909</td>\n",
              "      <td>17</td>\n",
              "      <td>33</td>\n",
              "      <td>9</td>\n",
              "      <td>0</td>\n",
              "      <td>1</td>\n",
              "      <td>5</td>\n",
              "    </tr>\n",
              "    <tr>\n",
              "      <th>体育</th>\n",
              "      <td>1</td>\n",
              "      <td>5</td>\n",
              "      <td>33</td>\n",
              "      <td>87</td>\n",
              "      <td>2</td>\n",
              "      <td>21</td>\n",
              "      <td>772</td>\n",
              "      <td>32</td>\n",
              "      <td>19</td>\n",
              "      <td>5</td>\n",
              "      <td>11</td>\n",
              "      <td>12</td>\n",
              "    </tr>\n",
              "    <tr>\n",
              "      <th>健康</th>\n",
              "      <td>5</td>\n",
              "      <td>19</td>\n",
              "      <td>4</td>\n",
              "      <td>5</td>\n",
              "      <td>17</td>\n",
              "      <td>59</td>\n",
              "      <td>62</td>\n",
              "      <td>670</td>\n",
              "      <td>36</td>\n",
              "      <td>3</td>\n",
              "      <td>24</td>\n",
              "      <td>96</td>\n",
              "    </tr>\n",
              "    <tr>\n",
              "      <th>新闻</th>\n",
              "      <td>2</td>\n",
              "      <td>5</td>\n",
              "      <td>16</td>\n",
              "      <td>7</td>\n",
              "      <td>14</td>\n",
              "      <td>26</td>\n",
              "      <td>42</td>\n",
              "      <td>45</td>\n",
              "      <td>818</td>\n",
              "      <td>1</td>\n",
              "      <td>16</td>\n",
              "      <td>8</td>\n",
              "    </tr>\n",
              "    <tr>\n",
              "      <th>旅游</th>\n",
              "      <td>6</td>\n",
              "      <td>3</td>\n",
              "      <td>7</td>\n",
              "      <td>1</td>\n",
              "      <td>6</td>\n",
              "      <td>3</td>\n",
              "      <td>17</td>\n",
              "      <td>10</td>\n",
              "      <td>7</td>\n",
              "      <td>863</td>\n",
              "      <td>19</td>\n",
              "      <td>58</td>\n",
              "    </tr>\n",
              "    <tr>\n",
              "      <th>科技</th>\n",
              "      <td>0</td>\n",
              "      <td>14</td>\n",
              "      <td>6</td>\n",
              "      <td>5</td>\n",
              "      <td>8</td>\n",
              "      <td>12</td>\n",
              "      <td>39</td>\n",
              "      <td>28</td>\n",
              "      <td>20</td>\n",
              "      <td>6</td>\n",
              "      <td>782</td>\n",
              "      <td>80</td>\n",
              "    </tr>\n",
              "    <tr>\n",
              "      <th>文化</th>\n",
              "      <td>1</td>\n",
              "      <td>1</td>\n",
              "      <td>1</td>\n",
              "      <td>0</td>\n",
              "      <td>34</td>\n",
              "      <td>6</td>\n",
              "      <td>20</td>\n",
              "      <td>109</td>\n",
              "      <td>11</td>\n",
              "      <td>11</td>\n",
              "      <td>25</td>\n",
              "      <td>781</td>\n",
              "    </tr>\n",
              "  </tbody>\n",
              "</table>\n",
              "</div>"
            ],
            "text/plain": [
              "     房地产   娱乐   汽车   教育   女人   财经   体育   健康   新闻   旅游   科技   文化\n",
              "房地产  957    0    1    6   10   18    0    1    6    0    0    1\n",
              "娱乐     0  816   25    5    0   12   11   47   30    0   28   26\n",
              "汽车     2    7  898   11    1   21   35    7   15    0    3    0\n",
              "教育     1    0   33  830    1    7  105    5   14    1    3    0\n",
              "女人    14    0    3    1  806   11    8   36   13    3    7   98\n",
              "财经     0    2   20    3    1  909   17   33    9    0    1    5\n",
              "体育     1    5   33   87    2   21  772   32   19    5   11   12\n",
              "健康     5   19    4    5   17   59   62  670   36    3   24   96\n",
              "新闻     2    5   16    7   14   26   42   45  818    1   16    8\n",
              "旅游     6    3    7    1    6    3   17   10    7  863   19   58\n",
              "科技     0   14    6    5    8   12   39   28   20    6  782   80\n",
              "文化     1    1    1    0   34    6   20  109   11   11   25  781"
            ]
          },
          "metadata": {
            "tags": []
          },
          "execution_count": 34
        }
      ]
    },
    {
      "metadata": {
        "id": "I65gvV7PcpsY",
        "colab_type": "code",
        "colab": {}
      },
      "cell_type": "code",
      "source": [
        "from sklearn.metrics import precision_recall_fscore_support\n",
        "\n",
        "def eval_model(y_true, y_pred, labels):\n",
        "    # 计算每个分类的Precision, Recall, f1, support\n",
        "    p, r, f1, s = precision_recall_fscore_support(y_true, y_pred)\n",
        "    # 计算总体的平均Precision, Recall, f1, support\n",
        "    tot_p = np.average(p, weights=s)\n",
        "    tot_r = np.average(r, weights=s)\n",
        "    tot_f1 = np.average(f1, weights=s)\n",
        "    tot_s = np.sum(s)\n",
        "    res1 = pd.DataFrame({\n",
        "        u'Label': labels,\n",
        "        u'Precision': p,\n",
        "        u'Recall': r,\n",
        "        u'F1': f1,\n",
        "        u'Support': s\n",
        "    })\n",
        "    res2 = pd.DataFrame({\n",
        "        u'Label': ['总体'],\n",
        "        u'Precision': [tot_p],\n",
        "        u'Recall': [tot_r],\n",
        "        u'F1': [tot_f1],\n",
        "        u'Support': [tot_s]\n",
        "    })\n",
        "    res2.index = [999]\n",
        "    res = pd.concat([res1, res2])\n",
        "    return res[['Label', 'Precision', 'Recall', 'F1', 'Support']]"
      ],
      "execution_count": 0,
      "outputs": []
    },
    {
      "metadata": {
        "id": "bs61QrUweH87",
        "colab_type": "code",
        "outputId": "8272b9c4-ed3b-4b6d-e275-b36164e2d7e1",
        "colab": {
          "base_uri": "https://localhost:8080/",
          "height": 452
        }
      },
      "cell_type": "code",
      "source": [
        "eval_model(y_test,y_predicted,list(set(train_df['分类'])))"
      ],
      "execution_count": 0,
      "outputs": [
        {
          "output_type": "execute_result",
          "data": {
            "text/html": [
              "<div>\n",
              "<style scoped>\n",
              "    .dataframe tbody tr th:only-of-type {\n",
              "        vertical-align: middle;\n",
              "    }\n",
              "\n",
              "    .dataframe tbody tr th {\n",
              "        vertical-align: top;\n",
              "    }\n",
              "\n",
              "    .dataframe thead th {\n",
              "        text-align: right;\n",
              "    }\n",
              "</style>\n",
              "<table border=\"1\" class=\"dataframe\">\n",
              "  <thead>\n",
              "    <tr style=\"text-align: right;\">\n",
              "      <th></th>\n",
              "      <th>Label</th>\n",
              "      <th>Precision</th>\n",
              "      <th>Recall</th>\n",
              "      <th>F1</th>\n",
              "      <th>Support</th>\n",
              "    </tr>\n",
              "  </thead>\n",
              "  <tbody>\n",
              "    <tr>\n",
              "      <th>0</th>\n",
              "      <td>房地产</td>\n",
              "      <td>0.967644</td>\n",
              "      <td>0.957000</td>\n",
              "      <td>0.962293</td>\n",
              "      <td>1000</td>\n",
              "    </tr>\n",
              "    <tr>\n",
              "      <th>1</th>\n",
              "      <td>娱乐</td>\n",
              "      <td>0.935780</td>\n",
              "      <td>0.816000</td>\n",
              "      <td>0.871795</td>\n",
              "      <td>1000</td>\n",
              "    </tr>\n",
              "    <tr>\n",
              "      <th>2</th>\n",
              "      <td>汽车</td>\n",
              "      <td>0.857689</td>\n",
              "      <td>0.898000</td>\n",
              "      <td>0.877382</td>\n",
              "      <td>1000</td>\n",
              "    </tr>\n",
              "    <tr>\n",
              "      <th>3</th>\n",
              "      <td>教育</td>\n",
              "      <td>0.863684</td>\n",
              "      <td>0.830000</td>\n",
              "      <td>0.846507</td>\n",
              "      <td>1000</td>\n",
              "    </tr>\n",
              "    <tr>\n",
              "      <th>4</th>\n",
              "      <td>女人</td>\n",
              "      <td>0.895556</td>\n",
              "      <td>0.806000</td>\n",
              "      <td>0.848421</td>\n",
              "      <td>1000</td>\n",
              "    </tr>\n",
              "    <tr>\n",
              "      <th>5</th>\n",
              "      <td>财经</td>\n",
              "      <td>0.822624</td>\n",
              "      <td>0.909000</td>\n",
              "      <td>0.863658</td>\n",
              "      <td>1000</td>\n",
              "    </tr>\n",
              "    <tr>\n",
              "      <th>6</th>\n",
              "      <td>体育</td>\n",
              "      <td>0.684397</td>\n",
              "      <td>0.772000</td>\n",
              "      <td>0.725564</td>\n",
              "      <td>1000</td>\n",
              "    </tr>\n",
              "    <tr>\n",
              "      <th>7</th>\n",
              "      <td>健康</td>\n",
              "      <td>0.654936</td>\n",
              "      <td>0.670000</td>\n",
              "      <td>0.662383</td>\n",
              "      <td>1000</td>\n",
              "    </tr>\n",
              "    <tr>\n",
              "      <th>8</th>\n",
              "      <td>新闻</td>\n",
              "      <td>0.819639</td>\n",
              "      <td>0.818000</td>\n",
              "      <td>0.818819</td>\n",
              "      <td>1000</td>\n",
              "    </tr>\n",
              "    <tr>\n",
              "      <th>9</th>\n",
              "      <td>旅游</td>\n",
              "      <td>0.966405</td>\n",
              "      <td>0.863000</td>\n",
              "      <td>0.911780</td>\n",
              "      <td>1000</td>\n",
              "    </tr>\n",
              "    <tr>\n",
              "      <th>10</th>\n",
              "      <td>科技</td>\n",
              "      <td>0.850925</td>\n",
              "      <td>0.782000</td>\n",
              "      <td>0.815008</td>\n",
              "      <td>1000</td>\n",
              "    </tr>\n",
              "    <tr>\n",
              "      <th>11</th>\n",
              "      <td>文化</td>\n",
              "      <td>0.670386</td>\n",
              "      <td>0.781000</td>\n",
              "      <td>0.721478</td>\n",
              "      <td>1000</td>\n",
              "    </tr>\n",
              "    <tr>\n",
              "      <th>999</th>\n",
              "      <td>总体</td>\n",
              "      <td>0.832472</td>\n",
              "      <td>0.825167</td>\n",
              "      <td>0.827091</td>\n",
              "      <td>12000</td>\n",
              "    </tr>\n",
              "  </tbody>\n",
              "</table>\n",
              "</div>"
            ],
            "text/plain": [
              "    Label  Precision    Recall        F1  Support\n",
              "0     房地产   0.967644  0.957000  0.962293     1000\n",
              "1      娱乐   0.935780  0.816000  0.871795     1000\n",
              "2      汽车   0.857689  0.898000  0.877382     1000\n",
              "3      教育   0.863684  0.830000  0.846507     1000\n",
              "4      女人   0.895556  0.806000  0.848421     1000\n",
              "5      财经   0.822624  0.909000  0.863658     1000\n",
              "6      体育   0.684397  0.772000  0.725564     1000\n",
              "7      健康   0.654936  0.670000  0.662383     1000\n",
              "8      新闻   0.819639  0.818000  0.818819     1000\n",
              "9      旅游   0.966405  0.863000  0.911780     1000\n",
              "10     科技   0.850925  0.782000  0.815008     1000\n",
              "11     文化   0.670386  0.781000  0.721478     1000\n",
              "999    总体   0.832472  0.825167  0.827091    12000"
            ]
          },
          "metadata": {
            "tags": []
          },
          "execution_count": 36
        }
      ]
    }
  ]
}